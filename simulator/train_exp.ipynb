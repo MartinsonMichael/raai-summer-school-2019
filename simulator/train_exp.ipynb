{
 "cells": [
  {
   "cell_type": "code",
   "execution_count": 1,
   "metadata": {},
   "outputs": [
    {
     "name": "stderr",
     "output_type": "stream",
     "text": [
      "Using TensorFlow backend.\n"
     ]
    }
   ],
   "source": [
    "from sac_tf import SAC__Agent\n",
    "from env_wrappers import *\n",
    "from holder import Holder"
   ]
  },
  {
   "cell_type": "code",
   "execution_count": 2,
   "metadata": {},
   "outputs": [],
   "source": [
    "agent = SAC__Agent(\n",
    "    picture_shape=(84, 84, 3),\n",
    "    extra_size=12,\n",
    "    action_size=5,\n",
    "    hidden_size=64,\n",
    ")"
   ]
  },
  {
   "cell_type": "code",
   "execution_count": 3,
   "metadata": {},
   "outputs": [],
   "source": [
    "holder = Holder(\n",
    "    name='test_2',\n",
    "    batch_size=8,\n",
    "    hidden_size=64,\n",
    "    buffer_size=5 * 10 ** 3,\n",
    ")"
   ]
  },
  {
   "cell_type": "code",
   "execution_count": 4,
   "metadata": {},
   "outputs": [],
   "source": [
    "holder.insert_N_sample_to_replay_memory(10)"
   ]
  },
  {
   "cell_type": "code",
   "execution_count": 5,
   "metadata": {},
   "outputs": [
    {
     "name": "stdout",
     "output_type": "stream",
     "text": [
      "update step 0\n",
      "self._Policy.trainable_variables len : 20\n",
      "update step 1\n",
      "self._Policy.trainable_variables len : 20\n"
     ]
    }
   ],
   "source": [
    "holder.update_agent(2)"
   ]
  },
  {
   "cell_type": "code",
   "execution_count": 20,
   "metadata": {},
   "outputs": [],
   "source": [
    "holder.get_test_game_mean_reward(2)"
   ]
  },
  {
   "cell_type": "code",
   "execution_count": 11,
   "metadata": {},
   "outputs": [
    {
     "name": "stdout",
     "output_type": "stream",
     "text": [
      "(3, 3, 3, 64)\n",
      "1728\n",
      "\n",
      "(64,)\n",
      "64\n",
      "\n",
      "(3, 3, 64, 64)\n",
      "36864\n",
      "\n",
      "(64,)\n",
      "64\n",
      "\n",
      "(3, 3, 64, 64)\n",
      "36864\n",
      "\n",
      "(64,)\n",
      "64\n",
      "\n",
      "(3, 3, 64, 64)\n",
      "36864\n",
      "\n",
      "(64,)\n",
      "64\n",
      "\n",
      "(3, 3, 64, 32)\n",
      "18432\n",
      "\n",
      "(32,)\n",
      "32\n",
      "\n",
      "(3, 3, 32, 16)\n",
      "4608\n",
      "\n",
      "(16,)\n",
      "16\n",
      "\n",
      "(12, 64)\n",
      "768\n",
      "\n",
      "(64,)\n",
      "64\n",
      "\n",
      "(464, 64)\n",
      "29696\n",
      "\n",
      "(64,)\n",
      "64\n",
      "\n",
      "(64, 64)\n",
      "4096\n",
      "\n",
      "(64,)\n",
      "64\n",
      "\n",
      "(64, 5)\n",
      "320\n",
      "\n",
      "(5,)\n",
      "5\n",
      "\n",
      "\n",
      "170741\n"
     ]
    }
   ],
   "source": [
    "var_num = 0\n",
    "\n",
    "for var in holder.agent._Policy.trainable_variables:\n",
    "    print(var.shape)\n",
    "    cur = 1\n",
    "    for x in var.shape:\n",
    "        cur *= x\n",
    "    print(cur)\n",
    "    print()\n",
    "    var_num += cur\n",
    "            \n",
    "print()\n",
    "print(var_num)"
   ]
  }
 ],
 "metadata": {
  "kernelspec": {
   "display_name": "Python 3",
   "language": "python",
   "name": "python3"
  },
  "language_info": {
   "codemirror_mode": {
    "name": "ipython",
    "version": 3
   },
   "file_extension": ".py",
   "mimetype": "text/x-python",
   "name": "python",
   "nbconvert_exporter": "python",
   "pygments_lexer": "ipython3",
   "version": "3.6.9"
  }
 },
 "nbformat": 4,
 "nbformat_minor": 2
}
