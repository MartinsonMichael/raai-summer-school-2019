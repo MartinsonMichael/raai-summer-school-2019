{
 "cells": [
  {
   "cell_type": "code",
   "execution_count": 16,
   "metadata": {},
   "outputs": [],
   "source": [
    "import os\n",
    "import cv2"
   ]
  },
  {
   "cell_type": "code",
   "execution_count": 11,
   "metadata": {},
   "outputs": [],
   "source": [
    "masks = os.listdir('./env_data_test/cars/masks/')\n",
    "ims = os.listdir('./env_data_test/cars/images/')"
   ]
  },
  {
   "cell_type": "code",
   "execution_count": 29,
   "metadata": {},
   "outputs": [],
   "source": [
    "mask_data = []\n",
    "im_data = []\n",
    "\n",
    "for name in masks:\n",
    "    try:\n",
    "        mask_data.append((\n",
    "            name, \n",
    "            cv2.imread(os.path.join('./env_data_test/cars/masks/', name)),\n",
    "            name.split('_')[2].split('.')[0]\n",
    "        ))\n",
    "    except:\n",
    "        pass\n",
    "    \n",
    "for name in ims:\n",
    "    try:\n",
    "        im_data.append((\n",
    "            name, \n",
    "            cv2.imread(os.path.join('./env_data_test/cars/images/', name)),\n",
    "            name.split('_')[2].split('.')[0]\n",
    "        ))\n",
    "    except:\n",
    "        pass\n",
    "    \n",
    "mask_data = sorted(mask_data, key=lambda x: x[2])\n",
    "im_data = sorted(im_data, key=lambda x: x[2])"
   ]
  },
  {
   "cell_type": "code",
   "execution_count": 31,
   "metadata": {},
   "outputs": [],
   "source": [
    "for i in range(len(mask_data)):\n",
    "    if mask_data[i][2] != im_data[i][2]:\n",
    "        print(i)"
   ]
  },
  {
   "cell_type": "code",
   "execution_count": 33,
   "metadata": {},
   "outputs": [
    {
     "data": {
      "text/plain": [
       "('DJI_AVC-0-03-14-664.jpg_0.bmp', 'DJI_AVC-0-03-31-690.jpg_0.jpg')"
      ]
     },
     "execution_count": 33,
     "metadata": {},
     "output_type": "execute_result"
    }
   ],
   "source": [
    "mask_data[0][0], im_data[0][0]"
   ]
  },
  {
   "cell_type": "code",
   "execution_count": 34,
   "metadata": {},
   "outputs": [],
   "source": [
    "for i in range(len(mask_data)):\n",
    "    dir_folder = os.path.join('./env_data_test/cars/', str(i))\n",
    "    os.mkdir(dir_folder)\n",
    "    cv2.imwrite(os.path.join(dir_folder, 'mask.bmp'), mask_data[i][1])\n",
    "    cv2.imwrite(os.path.join(dir_folder, 'image.jpg'), im_data[i][1])"
   ]
  }
 ],
 "metadata": {
  "kernelspec": {
   "display_name": "Python 3",
   "language": "python",
   "name": "python3"
  },
  "language_info": {
   "codemirror_mode": {
    "name": "ipython",
    "version": 3
   },
   "file_extension": ".py",
   "mimetype": "text/x-python",
   "name": "python",
   "nbconvert_exporter": "python",
   "pygments_lexer": "ipython3",
   "version": "3.6.8"
  }
 },
 "nbformat": 4,
 "nbformat_minor": 2
}
