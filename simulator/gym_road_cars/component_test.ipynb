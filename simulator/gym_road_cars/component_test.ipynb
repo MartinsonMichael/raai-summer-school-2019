{
 "cells": [
  {
   "cell_type": "code",
   "execution_count": 1,
   "metadata": {},
   "outputs": [],
   "source": [
    "from data_utils import DataSupporter\n",
    "from matplotlib import pyplot as plt\n",
    "import numpy as np"
   ]
  },
  {
   "cell_type": "code",
   "execution_count": 2,
   "metadata": {},
   "outputs": [
    {
     "name": "stdout",
     "output_type": "stream",
     "text": [
      "error while parsing car image source: /data/Hack/CDS_Lab/sac_branch/simulator/gym_road_cars/env_data_test/cars/9\n"
     ]
    }
   ],
   "source": [
    "test = DataSupporter(\n",
    "    '/data/Hack/CDS_Lab/sac_branch/simulator/gym_road_cars/env_data_test/cars/',\n",
    "    '/data/Hack/CDS_Lab/sac_branch/simulator/gym_road_cars/env_data_test/tracks/1_background_segmentation.xml',\n",
    "    '/data/Hack/CDS_Lab/sac_branch/simulator/gym_road_cars/env_data_test/tracks/background_image.jpg',\n",
    ")"
   ]
  },
  {
   "cell_type": "code",
   "execution_count": 3,
   "metadata": {},
   "outputs": [
    {
     "name": "stdout",
     "output_type": "stream",
     "text": [
      "[[2690.23  778.24]\n",
      " [2081.83  783.82]\n",
      " [1562.74  786.61]\n",
      " [1345.3   789.1 ]\n",
      " [1233.4   808.4 ]\n",
      " [1167.8   874.2 ]\n",
      " [1163.2   962.4 ]\n",
      " [1169.2  1349.4 ]\n",
      " [1166.44 1506.64]]\n"
     ]
    }
   ],
   "source": [
    "line = np.array(test.data.get_polylines(0)[1]['points'])\n",
    "print(line)"
   ]
  },
  {
   "cell_type": "code",
   "execution_count": 4,
   "metadata": {},
   "outputs": [],
   "source": [
    "new_line = test._expand_track(line, 30)"
   ]
  },
  {
   "cell_type": "code",
   "execution_count": 5,
   "metadata": {},
   "outputs": [
    {
     "data": {
      "image/png": "[encoded data removed]",
      "text/plain": [
       "<Figure size 432x288 with 1 Axes>"
      ]
     },
     "metadata": {
      "needs_background": "light"
     },
     "output_type": "display_data"
    }
   ],
   "source": [
    "# plt.scatter(line[:, 0], line[:, 1], color='red')\n",
    "plt.scatter(new_line[:, 0], new_line[:, 1], color='blue')\n",
    "plt.show()"
   ]
  },
  {
   "cell_type": "code",
   "execution_count": 5,
   "metadata": {},
   "outputs": [],
   "source": [
    "from shapely.geometry import Polygon"
   ]
  },
  {
   "cell_type": "code",
   "execution_count": 8,
   "metadata": {},
   "outputs": [],
   "source": [
    "polygon = Polygon(test.data.get_polygons(0)[3]['points'])"
   ]
  },
  {
   "cell_type": "code",
   "execution_count": 9,
   "metadata": {},
   "outputs": [
    {
     "data": {
      "text/plain": [
       "830023.2812999999"
      ]
     },
     "execution_count": 9,
     "metadata": {},
     "output_type": "execute_result"
    }
   ],
   "source": []
  }
 ],
 "metadata": {
  "kernelspec": {
   "display_name": "Python 3",
   "language": "python",
   "name": "python3"
  },
  "language_info": {
   "codemirror_mode": {
    "name": "ipython",
    "version": 3
   },
   "file_extension": ".py",
   "mimetype": "text/x-python",
   "name": "python",
   "nbconvert_exporter": "python",
   "pygments_lexer": "ipython3",
   "version": "3.6.8"
  }
 },
 "nbformat": 4,
 "nbformat_minor": 2
}
